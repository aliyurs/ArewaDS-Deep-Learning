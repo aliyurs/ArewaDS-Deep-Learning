{
  "nbformat": 4,
  "nbformat_minor": 0,
  "metadata": {
    "colab": {
      "provenance": [],
      "authorship_tag": "ABX9TyORRHmDVFh+nGrCQKDn1LNz",
      "include_colab_link": true
    },
    "kernelspec": {
      "name": "python3",
      "display_name": "Python 3"
    },
    "language_info": {
      "name": "python"
    }
  },
  "cells": [
    {
      "cell_type": "markdown",
      "metadata": {
        "id": "view-in-github",
        "colab_type": "text"
      },
      "source": [
        "<a href=\"https://colab.research.google.com/github/aliyurs/ArewaDS-Deep-Learning/blob/main/week1_exercise.ipynb\" target=\"_parent\"><img src=\"https://colab.research.google.com/assets/colab-badge.svg\" alt=\"Open In Colab\"/></a>"
      ]
    },
    {
      "cell_type": "markdown",
      "source": [
        "Arewa Data Science Academy\n",
        "\n",
        "Deep Learning Cohort 2.0\n",
        "\n",
        "Name: Aliyu Rabiu Shuaibu\n",
        "\n",
        "Email: aliyursringim@gmail.com\n",
        "\n",
        "Title: Week 1 Solution\n",
        "\n",
        "Exercise Solution"
      ],
      "metadata": {
        "id": "1Fq5QXybEQAv"
      }
    },
    {
      "cell_type": "markdown",
      "source": [
        "Question 1 Random Tensor"
      ],
      "metadata": {
        "id": "LZKCCHoe53OF"
      }
    },
    {
      "cell_type": "code",
      "source": [
        "# Import torch\n",
        "import torch\n",
        "\n",
        "# Create Random Tensor shape (7, 7)\n",
        "\n",
        "A = torch.rand(size=(7, 7))\n",
        "A, A.shape"
      ],
      "metadata": {
        "colab": {
          "base_uri": "https://localhost:8080/"
        },
        "id": "0UfjZW4r57cL",
        "outputId": "7513f018-5ffd-458e-d0fb-9f4ab93817eb"
      },
      "execution_count": 1,
      "outputs": [
        {
          "output_type": "execute_result",
          "data": {
            "text/plain": [
              "(tensor([[0.5478, 0.8305, 0.3144, 0.0163, 0.1591, 0.6310, 0.6378],\n",
              "         [0.6567, 0.3081, 0.2100, 0.3089, 0.2708, 0.3536, 0.9159],\n",
              "         [0.8748, 0.1498, 0.1744, 0.4933, 0.8811, 0.4637, 0.2521],\n",
              "         [0.9235, 0.6092, 0.7173, 0.9661, 0.1118, 0.5492, 0.1502],\n",
              "         [0.4237, 0.0281, 0.7288, 0.5942, 0.6656, 0.0818, 0.0365],\n",
              "         [0.4918, 0.9861, 0.6971, 0.1599, 0.6443, 0.1971, 0.6929],\n",
              "         [0.4138, 0.8270, 0.7020, 0.3851, 0.5637, 0.5769, 0.9509]]),\n",
              " torch.Size([7, 7]))"
            ]
          },
          "metadata": {},
          "execution_count": 1
        }
      ]
    },
    {
      "cell_type": "markdown",
      "source": [
        "Matrix multiplication on the tensor from 2"
      ],
      "metadata": {
        "id": "ZospqP3_6zd6"
      }
    },
    {
      "cell_type": "code",
      "source": [
        "# Create another random tensor\n",
        "B = torch.rand(size=(1, 7))\n",
        "\n",
        "#Perfor Matrix Multiplication\n",
        "C = torch.matmul(A, B.T)\n",
        "C, C.shape"
      ],
      "metadata": {
        "colab": {
          "base_uri": "https://localhost:8080/"
        },
        "id": "qOWz9DIf6vhA",
        "outputId": "60337d61-74ad-469e-973a-cba8ff0d0e11"
      },
      "execution_count": 2,
      "outputs": [
        {
          "output_type": "execute_result",
          "data": {
            "text/plain": [
              "(tensor([[0.7417],\n",
              "         [0.6839],\n",
              "         [1.0371],\n",
              "         [0.8673],\n",
              "         [1.0075],\n",
              "         [1.2296],\n",
              "         [1.3409]]),\n",
              " torch.Size([7, 1]))"
            ]
          },
          "metadata": {},
          "execution_count": 2
        }
      ]
    },
    {
      "cell_type": "markdown",
      "source": [
        "Set Random seed to 0 and do 2 & 3 over again"
      ],
      "metadata": {
        "id": "iYXJvu_S9eil"
      }
    },
    {
      "cell_type": "code",
      "source": [
        "# Set Manual Seed\n",
        "torch.manual_seed(0)\n",
        "\n",
        "# Create two random tensors\n",
        "A = torch.rand(size=(7, 7))\n",
        "B = torch.rand(size=(1, 7))\n",
        "\n",
        "# Matrix multiply tensors\n",
        "C = torch.matmul(A, B.T)\n",
        "C, C.shape"
      ],
      "metadata": {
        "colab": {
          "base_uri": "https://localhost:8080/"
        },
        "id": "PmcZtiWI9mG2",
        "outputId": "1ac37de4-759e-4ff2-f261-62a7b083243c"
      },
      "execution_count": 3,
      "outputs": [
        {
          "output_type": "execute_result",
          "data": {
            "text/plain": [
              "(tensor([[1.8542],\n",
              "         [1.9611],\n",
              "         [2.2884],\n",
              "         [3.0481],\n",
              "         [1.7067],\n",
              "         [2.5290],\n",
              "         [1.7989]]),\n",
              " torch.Size([7, 1]))"
            ]
          },
          "metadata": {},
          "execution_count": 3
        }
      ]
    },
    {
      "cell_type": "markdown",
      "source": [
        "Speaking of random seeds, we saw how to set it with torch.manual_seed() but is there a GPU equivalent? (hint: you'll need to look into the documentation for torch.cuda for this one)"
      ],
      "metadata": {
        "id": "HeGFgi6C-Xix"
      }
    },
    {
      "cell_type": "code",
      "source": [
        "#Set random seed on the GPU\n",
        "torch.cuda.manual_seed(1234)"
      ],
      "metadata": {
        "id": "hL-qY3Hb-lPU"
      },
      "execution_count": 4,
      "outputs": []
    },
    {
      "cell_type": "markdown",
      "source": [
        "Creat two random tensors of shape (2, 3) and send to GPU. Set torch.manual_seed(1234)"
      ],
      "metadata": {
        "id": "OkYMkw_9-zSj"
      }
    },
    {
      "cell_type": "code",
      "source": [
        "# Set Random Seed\n",
        "torch.manual_seed(1234)\n",
        "\n",
        "#Check for access to GPU\n",
        "device = \"cuda\" if torch.cuda.is_available() else \"cpu\"\n",
        "print(f\"Device: {device}\")\n",
        "\n",
        "# Create two random tensor on GPU\n",
        "\n",
        "tensor_D = torch.rand(size=(2,3)).to(device)\n",
        "tensor_E = torch.rand(size=(2,3)).to(device)\n",
        "tensor_D, tensor_E"
      ],
      "metadata": {
        "colab": {
          "base_uri": "https://localhost:8080/"
        },
        "id": "QlQWu1eS_FpN",
        "outputId": "de3a4729-341f-44cb-8655-d4ad588a80cf"
      },
      "execution_count": 8,
      "outputs": [
        {
          "output_type": "stream",
          "name": "stdout",
          "text": [
            "Device: cpu\n"
          ]
        },
        {
          "output_type": "execute_result",
          "data": {
            "text/plain": [
              "(tensor([[0.0290, 0.4019, 0.2598],\n",
              "         [0.3666, 0.0583, 0.7006]]),\n",
              " tensor([[0.0518, 0.4681, 0.6738],\n",
              "         [0.3315, 0.7837, 0.5631]]))"
            ]
          },
          "metadata": {},
          "execution_count": 8
        }
      ]
    },
    {
      "cell_type": "markdown",
      "source": [
        "Perform MAtrix Multiplication of 6 above"
      ],
      "metadata": {
        "id": "NDaYFZicBJ__"
      }
    },
    {
      "cell_type": "code",
      "source": [
        "# Perform matmul on tensor_D and Tensor_E\n",
        "tensor_F = torch.matmul(tensor_D, tensor_E.T)\n",
        "tensor_F, tensor_F.shape"
      ],
      "metadata": {
        "colab": {
          "base_uri": "https://localhost:8080/"
        },
        "id": "sAkBQ1rnBOzh",
        "outputId": "066ff465-9aea-47a9-c68a-1dcc92a3322b"
      },
      "execution_count": 9,
      "outputs": [
        {
          "output_type": "execute_result",
          "data": {
            "text/plain": [
              "(tensor([[0.3647, 0.4709],\n",
              "         [0.5184, 0.5617]]),\n",
              " torch.Size([2, 2]))"
            ]
          },
          "metadata": {},
          "execution_count": 9
        }
      ]
    },
    {
      "cell_type": "markdown",
      "source": [
        "Find Maximum and minimum values of the output of 7 above"
      ],
      "metadata": {
        "id": "ewmmjh5oBzwp"
      }
    },
    {
      "cell_type": "code",
      "source": [
        "# Find Max\n",
        "max = torch.max(tensor_F)\n",
        "\n",
        "# Find Min\n",
        "min = torch.min(tensor_F)\n",
        "max, min"
      ],
      "metadata": {
        "colab": {
          "base_uri": "https://localhost:8080/"
        },
        "id": "r79GU17EB6n-",
        "outputId": "b5ae3601-3596-4958-efc3-13ccc7c80a84"
      },
      "execution_count": 10,
      "outputs": [
        {
          "output_type": "execute_result",
          "data": {
            "text/plain": [
              "(tensor(0.5617), tensor(0.3647))"
            ]
          },
          "metadata": {},
          "execution_count": 10
        }
      ]
    },
    {
      "cell_type": "markdown",
      "source": [
        "Find the maximum and minimum index values of the output of 7."
      ],
      "metadata": {
        "id": "5Ww6L8o-CelC"
      }
    },
    {
      "cell_type": "code",
      "source": [
        "# Find Arg Max\n",
        "arg_max = torch.argmax(tensor_F)\n",
        "\n",
        "# Find Arg Min\n",
        "arg_min = torch.argmin(tensor_F)\n",
        "arg_max, arg_min"
      ],
      "metadata": {
        "colab": {
          "base_uri": "https://localhost:8080/"
        },
        "id": "Od9j2rxkCh2W",
        "outputId": "68bc5375-2b20-4709-deb6-935cd5fc6e63"
      },
      "execution_count": 11,
      "outputs": [
        {
          "output_type": "execute_result",
          "data": {
            "text/plain": [
              "(tensor(3), tensor(0))"
            ]
          },
          "metadata": {},
          "execution_count": 11
        }
      ]
    },
    {
      "cell_type": "markdown",
      "source": [
        "Make a random tensor with shape (1, 1, 1, 10) and then create a new tensor with all the 1 dimensions removed to be left with a tensor of shape (10). Set the seed to 7 when you create it and print out the first tensor and it's shape as well as the second tensor and it's shape"
      ],
      "metadata": {
        "id": "P9rzEaxoDKGo"
      }
    },
    {
      "cell_type": "code",
      "source": [
        "# Set seed\n",
        "torch.manual_seed(7)\n",
        "\n",
        "# Create Random tensor\n",
        "tensor_G = torch.rand(size=(1, 1, 1, 10))\n",
        "\n",
        "#Remove Single Dimension\n",
        "tensor_H = tensor_G.squeeze()\n",
        "\n",
        "# Print out tensors\n",
        "print(tensor_G, tensor_G.shape)\n",
        "print(tensor_H, tensor_H.shape)"
      ],
      "metadata": {
        "colab": {
          "base_uri": "https://localhost:8080/"
        },
        "id": "xesDg8j5DLt1",
        "outputId": "e8753c1f-d25f-444a-c198-714d4ef4d130"
      },
      "execution_count": 12,
      "outputs": [
        {
          "output_type": "stream",
          "name": "stdout",
          "text": [
            "tensor([[[[0.5349, 0.1988, 0.6592, 0.6569, 0.2328, 0.4251, 0.2071, 0.6297,\n",
            "           0.3653, 0.8513]]]]) torch.Size([1, 1, 1, 10])\n",
            "tensor([0.5349, 0.1988, 0.6592, 0.6569, 0.2328, 0.4251, 0.2071, 0.6297, 0.3653,\n",
            "        0.8513]) torch.Size([10])\n"
          ]
        }
      ]
    }
  ]
}